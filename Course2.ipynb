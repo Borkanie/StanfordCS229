{
 "cells": [
  {
   "cell_type": "markdown",
   "metadata": {},
   "source": [
    "# Course 2\n",
    "\n",
    "Outline:\n",
    "\n",
    "1. Linear Regression\n",
    "\n",
    "2. Batch/Stohastic gradiend descent (SGD )\n",
    "\n",
    "3. Normal equation\n",
    "\n",
    "## Linear Regression\n",
    "\n",
    "\n",
    "\n",
    "\n",
    "\n"
   ]
  }
 ],
 "metadata": {
  "kernelspec": {
   "display_name": "Python 3.10.8 64-bit (microsoft store)",
   "language": "python",
   "name": "python3"
  },
  "language_info": {
   "name": "python",
   "version": "3.10.8"
  },
  "orig_nbformat": 4,
  "vscode": {
   "interpreter": {
    "hash": "693b8e77d0983ee1c07f6c898fdbb4b0fdf441940ee434c51f69ae2952895690"
   }
  }
 },
 "nbformat": 4,
 "nbformat_minor": 2
}
