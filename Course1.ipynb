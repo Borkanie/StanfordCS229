{
 "cells": [
  {
   "cell_type": "markdown",
   "metadata": {},
   "source": [
    "# Introduction\n",
    "\n",
    "## What is machine leanring\n",
    "(Samuel did a self learning checker bot)The field of study that gives a computer the ability to learn withouth being explicitly programmed.\n",
    "\n",
    "## Tools\n",
    "\n",
    "### Supervised learning\n",
    "\n",
    "In supervised learning you are given a set of inputs and outputs $(X,Y)$ and you are trying to learn a mapping from $X\\rightarrow Y$. \\\n",
    "The house selling market byu size is a \"Regression\" problem because the value that we are trying to predict is continous. \n",
    "There is another type of problem named a \"Classification\" problem because the Y is can only take a discrete number of values.\n",
    " \n",
    "> BASICALLY: IF THE POSSIBLE OUTPUT IS A DISCRETE ARRAY OF VALUES THE PROBLEM IS A CLASSIFICAITON PROBLEM, IF NOT IT IS A REGRESSION PROBLEM.\n",
    "\n",
    "#### Suport Vectors\n",
    "\n",
    "SUPPORT VECTOR MACHINES USES AN INFINITE NUMBER OF FEATURES, BASICLY THE MDOEL IS DEFINED AS A MODEL WITH CONTIN INPUTS\n",
    "\n",
    "### Unsupervized Learning\n",
    "\n",
    "Your are given only input X and you are tasked to find something interesting into the data.\n",
    "\n",
    "#### Clustering\n",
    "\n",
    "Being able to group data by some characteristics\n",
    "\n",
    "##### Cocktail party problem\n",
    "There is a problem where there are multiple microphones in a room with multiple microfones and you need to separate the voices.\n",
    "\n",
    "### Reinforcement learning\n",
    "\n",
    "Adjust control law over time using a reward mechanism. \n",
    "\n",
    " "
   ]
  }
 ],
 "metadata": {
  "kernelspec": {
   "display_name": "Python 3.10.8 64-bit (microsoft store)",
   "language": "python",
   "name": "python3"
  },
  "language_info": {
   "name": "python",
   "version": "3.10.8"
  },
  "orig_nbformat": 4,
  "vscode": {
   "interpreter": {
    "hash": "693b8e77d0983ee1c07f6c898fdbb4b0fdf441940ee434c51f69ae2952895690"
   }
  }
 },
 "nbformat": 4,
 "nbformat_minor": 2
}
